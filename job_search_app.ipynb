{
 "cells": [
  {
   "cell_type": "code",
   "execution_count": null,
   "id": "b5254ff7",
   "metadata": {},
   "outputs": [],
   "source": [
    "import streamlit as st\n",
    "import pandas as pd\n",
    "\n",
    "# Load the dataset\n",
    "file_path = r'C:\\Users\\Eyshuwen\\Google Drive\\Shu Wen\\Test\\Test.csv'\n",
    "df = pd.read_csv(file_path)\n",
    "\n",
    "# Function to find SSOC classification based on job title\n",
    "def find_ssoc_classification(job_title):\n",
    "    matching_row = df[df['Job Title'].str.contains(job_title, case=False, na=False)]\n",
    "    if not matching_row.empty:\n",
    "        ssoc_code = matching_row.iloc[0]['Labelled SSOC']\n",
    "        ssoc_title = matching_row.iloc[0]['Labelled SSOC Title']\n",
    "        return ssoc_code, ssoc_title\n",
    "    else:\n",
    "        return None, None\n",
    "\n",
    "# Function to find similar job listings\n",
    "def find_similar_jobs(job_title):\n",
    "    similar_jobs = df[df['Job Title'].str.contains(job_title, case=False, na=False)]\n",
    "    return similar_jobs\n",
    "\n",
    "# Streamlit app\n",
    "st.title('Job Title to SSOC Classification Finder')\n",
    "\n",
    "# Input job title\n",
    "job_title_input = st.text_input('Enter Job Title:')\n",
    "\n",
    "if job_title_input:\n",
    "    ssoc_code, ssoc_title = find_ssoc_classification(job_title_input)\n",
    "    \n",
    "    if ssoc_code:\n",
    "        st.write(f\"SSOC Classification: {ssoc_code} - {ssoc_title}\")\n",
    "    else:\n",
    "        st.write(\"No SSOC classification found. You can skip this field.\")\n",
    "    \n",
    "    st.subheader('Potential Job Listings:')\n",
    "    similar_jobs = find_similar_jobs(job_title_input)\n",
    "    if not similar_jobs.empty:\n",
    "        for index, row in similar_jobs.iterrows():\n",
    "            st.write(f\"Job Title: {row['Job Title']}\")\n",
    "            st.write(f\"SSOC Classification: {row['Labelled SSOC']} - {row['Labelled SSOC Title']}\")\n",
    "            st.write('---')\n",
    "    else:\n",
    "        st.write(\"No similar job listings found.\")\n"
   ]
  }
 ],
 "metadata": {
  "kernelspec": {
   "display_name": "Python 3 (ipykernel)",
   "language": "python",
   "name": "python3"
  },
  "language_info": {
   "codemirror_mode": {
    "name": "ipython",
    "version": 3
   },
   "file_extension": ".py",
   "mimetype": "text/x-python",
   "name": "python",
   "nbconvert_exporter": "python",
   "pygments_lexer": "ipython3",
   "version": "3.10.9"
  }
 },
 "nbformat": 4,
 "nbformat_minor": 5
}
